{
  "cells": [
    {
      "cell_type": "markdown",
      "metadata": {
        "id": "_UroDlaUCNac"
      },
      "source": [
        "<font size=\"8\">Trilhonato -- Versão TRILha</font>"
      ]
    },
    {
      "cell_type": "markdown",
      "metadata": {
        "id": "5C5bZaO5CNae"
      },
      "source": [
        "Vocês serão divididos em 6 grupos de 2 pessoas, respectivamente:\n",
        "\n",
        "\n",
        "## Vocês podem:\n",
        "- pesquisar na internet (GPT não)\n",
        "- pedir ajuda aos monitores (Tiago, Felipe, Daniel, Ayres e Davi)\n",
        "\n",
        "\n",
        "## Objetivos:\n",
        "- Conseguir o máximo de pontos entre 13h20 - 16h\n",
        "- *obs*: Cada questão vale uma quantidade diferente de pontos\n"
      ]
    },
    {
      "cell_type": "markdown",
      "metadata": {
        "id": "Mbk5O9QOCNae"
      },
      "source": [
        "<font size=\"8\">Boa Sorte!</font>"
      ]
    },
    {
      "cell_type": "markdown",
      "metadata": {
        "id": "N0mVLjboCNaf"
      },
      "source": [
        "<font size=\"8\">==================================<font>"
      ]
    },
    {
      "cell_type": "markdown",
      "metadata": {
        "id": "MqkwXCKTCNaf"
      },
      "source": [
        "# <font size=\"8\">Questão 1 - Metas de Lucro [3] </font>"
      ]
    },
    {
      "cell_type": "markdown",
      "metadata": {
        "id": "PokF0kT1CNaf"
      },
      "source": [
        "Um analista financeiro é responsável por uma carteira de ações lucrativas representadas em um array.\n",
        "Cada item no array representa o lucro anual de uma ação correspondente.\n",
        "O analista reúne todos os pares distintos de ações que atingiram o lucro-alvo.\n",
        "Pares distintos são aqueles que diferem em pelo menos um elemento.\n",
        "Dado o array de lucros, encontre o número de pares distintos de ações cuja soma dos lucros de cada par é exatamente igual ao lucro-alvo."
      ]
    },
    {
      "cell_type": "markdown",
      "metadata": {
        "id": "zwlYMKLsCNag"
      },
      "source": [
        "- Exemplo:\n",
        "- stocksProfit = [5, 7, 9, 13, 11, 6, 6, 3, 3]\n",
        "- target = 12 (meta de lucro)\n",
        "- Output = 3\n",
        "\n",
        "- Explicação:\n",
        "    Existem 4 pares de ações cuja soma dos lucros é igual ao alvo de 12. Note que, como há duas instâncias de 3 em stocksProfit, há dois pares correspondentes (9, 3): stocksProfit índices 2 e 7, e índices 2 e 8, mas apenas um pode ser incluído.\n",
        "\n",
        "    Existem 3 pares distintos de ações: (5, 7), (3, 9), e (6, 6), e o valor de retorno é 3.\n"
      ]
    },
    {
      "cell_type": "markdown",
      "metadata": {
        "id": "59SwBimsCNag"
      },
      "source": [
        "Complete a função stockPairs no editor abaixo.\n",
        "\n",
        "stockPairs possui os seguintes parâmetros:\n",
        "\n",
        "int stocksProfit[n]: um array de inteiros representando os lucros das ações.\n",
        "target: um inteiro representando o lucro-alvo anual.\n",
        "Retorna: o número inteiro total de pares determinados.\n"
      ]
    },
    {
      "cell_type": "code",
      "execution_count": null,
      "metadata": {
        "id": "Kqm67ruACNag"
      },
      "outputs": [],
      "source": [
        "def stockPairs(stocksProfit, target):\n",
        "    somados = []\n",
        "\n",
        "    for i in range(len(stocksProfit)-1):\n",
        "        for j in range(i + 1, len(stocksProfit)):\n",
        "            if stocksProfit[i] + stocksProfit[j] == target and [stocksProfit[i], stocksProfit[j]] not in somados and [stocksProfit[j], stocksProfit[i]] not in somados:\n",
        "                somados.append([stocksProfit[i], stocksProfit[j]])\n",
        "\n",
        "    if not somados:\n",
        "        return False\n",
        "\n",
        "    tamanho = len(somados)\n",
        "\n",
        "    return tamanho"
      ]
    },
    {
      "cell_type": "code",
      "execution_count": null,
      "metadata": {
        "id": "I6zgHBelCNah",
        "colab": {
          "base_uri": "https://localhost:8080/"
        },
        "outputId": "637bbaf5-ac97-456d-aad2-83822d9bcbac"
      },
      "outputs": [
        {
          "output_type": "stream",
          "name": "stdout",
          "text": [
            "3\n",
            "2\n",
            "45\n"
          ]
        }
      ],
      "source": [
        "print(stockPairs([5, 7, 9, 13, 11, 6, 6, 3, 3], 12)) # deve retornar 3\n",
        "print(stockPairs([6, 6, 3, 9, 3, 5, 1], 12)) # deve retornar 2\n",
        "print(stockPairs([92, 407, 1152, 403, 1419, 689, 1029, 108, 128, 1307, 300, 775, 622, 730,\n",
        "    978, 526, 943, 127, 566, 869, 715, 983, 820, 1394, 901, 606, 497, 98, 1222,\n",
        "    843, 600, 1153, 302, 1450, 1457, 973, 1431, 217, 936, 958, 1258, 970, 1155,\n",
        "    1061, 1341, 657, 333, 1151, 790, 101, 588, 263, 101, 534, 747, 405, 585,\n",
        "    111, 849, 695, 1256, 1508, 139, 336, 1430, 615, 1295, 550, 783, 575, 992,\n",
        "    709, 828, 1447, 1457, 738, 1024, 529, 406, 164, 994, 1008, 50, 811, 564,\n",
        "    580, 952, 768, 863, 1225, 251, 1032, 1460], 1558)) # deve retornar 45\n"
      ]
    },
    {
      "cell_type": "markdown",
      "metadata": {
        "id": "BoCosXNKCNah"
      },
      "source": [
        "# <font size=\"8\">Questão 2 - É subsequência? [1]</font>"
      ]
    },
    {
      "cell_type": "markdown",
      "metadata": {
        "id": "PZ0SWlnKCNah"
      },
      "source": [
        "Dadas duas strings s e t, retorne verdadeiro se s for uma subsequência de t, ou falso caso contrário.\n",
        "\n",
        "Uma subsequência de uma string é uma nova string formada a partir da string original, excluindo alguns (pode ser nenhum) dos caracteres sem perturbar as posições relativas dos caracteres restantes. (ou seja, \"ace\" é uma subsequência de \"abcde\", enquanto \"aec\" não é)."
      ]
    },
    {
      "cell_type": "markdown",
      "metadata": {
        "id": "KgGju3mkCNah"
      },
      "source": [
        "Exemplo 1:\n",
        "\n",
        "Input: s = \"abc\", t = \"ahbgdc\"\n",
        "\n",
        "Output: true\n"
      ]
    },
    {
      "cell_type": "markdown",
      "metadata": {
        "id": "ajFoMQLyCNah"
      },
      "source": [
        "Exemplo 2:\n",
        "\n",
        "Input: s = \"axc\", t = \"ahbgdc\"\n",
        "\n",
        "Output: false"
      ]
    },
    {
      "cell_type": "code",
      "execution_count": null,
      "metadata": {
        "id": "Aak88GjvCNah"
      },
      "outputs": [],
      "source": [
        "def isSubsequence(s, t):\n",
        "    if s == '' or t == '':\n",
        "        return True\n",
        "\n",
        "    s = list(s)\n",
        "    t = list(t)\n",
        "\n",
        "    lista = []\n",
        "\n",
        "    for i in range(len(t)):\n",
        "        if t[i] in s:\n",
        "            lista.append(t[i])\n",
        "\n",
        "        if len(lista) == len(s):\n",
        "                break\n",
        "\n",
        "    return lista == s"
      ]
    },
    {
      "cell_type": "code",
      "execution_count": null,
      "metadata": {
        "id": "SauSxMsBCNah",
        "colab": {
          "base_uri": "https://localhost:8080/"
        },
        "outputId": "d91d244d-2261-44ca-d5f9-907a2ed9d845"
      },
      "outputs": [
        {
          "output_type": "stream",
          "name": "stdout",
          "text": [
            "True\n",
            "False\n",
            "True\n"
          ]
        }
      ],
      "source": [
        "print(isSubsequence('abc', 'ahbgdcaab')) # deve retornar True\n",
        "print(isSubsequence('axc', 'ahbgdc')) # deve retornar False\n",
        "print(isSubsequence('', 'ahbgdc')) # deve retornar True"
      ]
    },
    {
      "cell_type": "markdown",
      "metadata": {
        "id": "fkz94xMaCNah"
      },
      "source": [
        "# <font size=\"8\">Questão 3 - Encontre a diferença de dois Arrays [1] </font>"
      ]
    },
    {
      "cell_type": "markdown",
      "metadata": {
        "id": "hF_kgPmOCNai"
      },
      "source": [
        "Dados dois arrays de inteiros nums1 e nums2, retorne um array resposta de tamanho 2 com dois arrays dentro desse array, onde:\n",
        "- resposta[0] é uma lista de todos os números inteiros distintos em nums1 que não estão presentes em nums2.\n",
        "- resposta[1] é uma lista de todos os números inteiros distintos em nums2 que não estão presentes em nums1.\n",
        "\n",
        "Observe que os inteiros nas listas podem ser retornados em qualquer ordem."
      ]
    },
    {
      "cell_type": "markdown",
      "metadata": {
        "id": "DUW5ju9ICNai"
      },
      "source": [
        "Exemplo 1:\n",
        "\n",
        "Input: nums1 = [1,2,3], nums2 = [2,4,6]\n",
        "\n",
        "Output: [[1,3],[4,6]]\n",
        "\n",
        "Explicação:\n",
        "\n",
        "Para nums1, nums1[1] = 2 está presente no índice 0 de nums2, enquanto nums1[0] = 1 e nums1[2] = 3 não estão presentes em nums2. Portanto, resposta[0] = [1,3].\n",
        "\n",
        "Para nums2, nums2[0] = 2 está presente no índice 1 de nums1, enquanto nums2[1] = 4 e nums2[2] = 6 não estão presentes em nums2. Portanto, resposta[1] = [4,6]."
      ]
    },
    {
      "cell_type": "markdown",
      "metadata": {
        "id": "Day8YdQWCNai"
      },
      "source": [
        "Exemplo 2:\n",
        "\n",
        "Input: nums1 = [1,2,3,3], nums2 = [1,1,2,2]\n",
        "\n",
        "Output: [[3],[]]\n",
        "\n",
        "Explicação:\n",
        "\n",
        "Para nums1, nums1[2] e nums1[3] não estão presentes em nums2. Como nums1[2] == nums1[3], seu valor é incluído apenas uma vez e resposta[0] = [3].\n",
        "Cada número inteiro em nums2 está presente em nums1. Portanto, resposta[1] = []."
      ]
    },
    {
      "cell_type": "code",
      "execution_count": null,
      "metadata": {
        "id": "_trTUs60CNai"
      },
      "outputs": [],
      "source": [
        "def findDifference(nums1, nums2):\n",
        "    resposta1 = []\n",
        "    resposta2 = []\n",
        "\n",
        "    for n in set(nums1):\n",
        "        if n not in nums2:\n",
        "            resposta1.append(n)\n",
        "\n",
        "    for x in set(nums2):\n",
        "        if x not in nums1:\n",
        "            resposta2.append(x)\n",
        "\n",
        "    return [resposta1, resposta2]"
      ]
    },
    {
      "cell_type": "code",
      "execution_count": null,
      "metadata": {
        "id": "um_1Rc2nCNai",
        "colab": {
          "base_uri": "https://localhost:8080/"
        },
        "outputId": "8364df6e-e317-4281-df3b-72258412c3df"
      },
      "outputs": [
        {
          "output_type": "stream",
          "name": "stdout",
          "text": [
            "[[1, 3], [4, 6]]\n",
            "[[3], []]\n"
          ]
        }
      ],
      "source": [
        "print(findDifference([1, 2, 3], [2, 4, 6])) # deve retornar [[1,3],[4, 6]]\n",
        "print(findDifference([1, 2, 3, 3], [1, 1, 2, 2]))  # deve retornar [[3],[]]"
      ]
    },
    {
      "cell_type": "markdown",
      "metadata": {
        "id": "auZ-V0ZcCNai"
      },
      "source": [
        "# <font size=\"8\">Questão 4 - Recipiente com mais água [3]</font>"
      ]
    },
    {
      "cell_type": "markdown",
      "metadata": {
        "id": "s_EnesaXCNai"
      },
      "source": [
        "Você receberá um array 'height' de comprimento n. Existem n linhas verticais desenhadas de modo que os dois pontos finais da i-ésima linha sejam (i, 0) e (i, altura[i]).\n",
        "\n",
        "Encontre duas linhas que, juntamente com o eixo x, formem um recipiente, de modo que o recipiente contenha mais água.\n",
        "\n",
        "Retorne a quantidade máxima de água que um recipiente pode armazenar.\n",
        "\n",
        "Observe que você não pode inclinar o recipiente."
      ]
    },
    {
      "cell_type": "markdown",
      "metadata": {
        "id": "QBKfNMqmCNai"
      },
      "source": [
        "Exemplo 1:\n",
        "\n",
        "![question_11.jpg](data:image/jpeg;base64,/9j/4AAQSkZJRgABAQAAAQABAAD/2wBDAAMCAgICAgMCAgIDAwMDBAYEBAQEBAgGBgUGCQgKCgkICQkKDA8MCgsOCwkJDRENDg8QEBEQCgwSExIQEw8QEBD/2wBDAQMDAwQDBAgEBAgQCwkLEBAQEBAQEBAQEBAQEBAQEBAQEBAQEBAQEBAQEBAQEBAQEBAQEBAQEBAQEBAQEBAQEBD/wAARCAF/AyEDASIAAhEBAxEB/8QAHQABAAMBAQEBAQEAAAAAAAAAAAYICQUHBAMKAv/EAFYQAAEBBQUEBgYFBwkFBgcAAAABAgMEBQYHCDZ1swkREhYhVVeR0dUTMVF0l8EUFRk3oSJBR3aFtMQ4UmGUlaSltdRWcneWpiMlJkKiozJUZnGSsdL/xAAdAQEAAgMBAQEBAAAAAAAAAAAABQcGCAkEAwIB/8QAQREBAAECAwQGCAUCBAUFAAAAAAECAwQFcTI0kbEGERRScsEHFTM1NlOhsjE3YbPRIYESFkFRCBciVNITI4KSk//aAAwDAQACEQMRAD8A1TAAAAAeR3lry9BXW6LldbV87i30LNZ3CSZy5hGON6npVVp6+4U3qrLt0w8bXo6VRljoVtFPWXL51EOmH7h6w8dPGUbYbYaRWWmVTeioqetFQ8tvJ9NBSJPbaBRH4VLLl+R6qAAAAAAAAAAAAAAAAAAAAAAAAAAAAAAAAAAAAAAAAAAAAAAAAAAAAAAAAAAAAAAAAAAAAAAAAAAAAAAAAAAAAAAAAAAAAAAAAAAAAAAAAAAAAAAAAAAAAAAAAAAAAAAAAAAAAAAeVXkemiKeZ9toFF/hUMAvyPVTyq8f00dTTPttAo78J9BL8j1UAAAAAAAAAAAAAAAAAAAAAAAAAAAAAAAAAAAAAAAAAAAAAAAAAAAAAAAAAAAAAAAAAAAAAAAAAAAAAAAAAAAAAAAAAAAAAAAAAAAAAAAAAAAAAAAAAAAAAAAAAAAAAAAAAAAAAA8qvG9NKUsz7bQKR/CdQi/I9VPKrxfTTVJM+20ClPwm8MvyPVQAAAAAAAAAAAAAAAAAAAAAAAAAAAAAAAAAAAAAAAAAAAAAAAAAAAAAAAAAAAAAAAAAAAAAAAAAAAAAAAAAAAAAAAAAAAAAAAAAAAAAAAAAAAAAAAAAAAAAAAAAAAAAAAAAAAzlvE1zSMZeptUpq1uGtfrOW07S0rjaagLNphHNOpA2rl40/WMdQb1hHEU8eKy8Zbfo0x6PhVpUTgQtRcgqmpa1upWb1PV9Wu6lm8dKEbiJikSkQ8b3PG0YYfPP/O/YYRl29VfyvSMN8XTvIXN7Ir0lllr9ote3fH9m8+k9pj2HmUVBVY9i4SIlUydQ7DhG2G4d22j9wrLHErC8LSLuRFTpVr1S7PY3G2D2PSmzybT5zOZo6iIyYzKNh4ZIdw8i4uJeRD5HTtP/AIHbLb1WWU9iJ0J6kDlXqJrHSai6UjpdTcxnz93XtNNMQMveQzD96rMwdNIyysQ9dO0VpWUZTibRN7Sb1RN7SdeEtetBiYpzDvrrNqEK7evGWG376Y0wrDpFXcrbSMTdppUT1rwsqu5OhFXoPyvDdMmopn22gU1+Ee7X5HqoAAAAAAAAAAAAAAPPbYrdKBsMlsvm1fREa6h5m/ah4dYWGV8qtss8S70RehNx6EUu2nGBaKzaI0UI7NsVXgsHXft/jH++sMx6AZFhek3STC5Vjev/ANO5MxP+Geqf6U1T/Seqf9Y/2Tv7Qm7l1lPv7Ka8T6pZf4u9zeZQkpg5jPFiI1+7h3SNSxpEVttpGWd67+hN6oZWneoHHVOZtB6zJg9HSzH1VRExTwn+W0+J/wCH7onZsV3Kar3XETO3T/pHgbgAAslpOAAAAAAAAAAAAAAAAAAAAAAAAAAAAAAAAAAAAAAAAAAAAAAAAAAAAAAAAAAAAAB5FeLvS2T3W5LKJ/axFzOHhJ5FPIOEWBgmolpXjDHGvEiKm5N35z10zV23v3WWafrBF/uyAeq/a83Nuuqr/sF5/wD0fbI9rFdDqGdS+QS6cVQ1FzKKdQbhG5G2yyrx42jDO9eLoTeqdJg+Sqyf706N/WCXfvLsD+n4AAAAAAAAAAAAAAAAAAAAAAAAAAAAAAAAAAAAAAAAAAAAB5VeE6ZZQzPttAp38IxlfkeqnlV4LpgqCZ9toEg/CI3/ACPVQAAAAAAAAAAAAAAUu2nGBaKzaI0ULolLtpxgWis2iNFCG6Q+7Lukc4WV6H/jbAeKr7KmeR3qBx1TmbQesycE71A46pzNoPWZKpte0p1hv9jt1u+GrlLcAAF3uW4AAAAAAAAAAAAAAAAAAAAAAAAAAAAAAAAAAAAAAAAAAAAAAAAAAAAAAAAAAAAAGau29+6yzT9YIv8AdkNKjNXbe/dZZp+sEX+7IBkCSqyf706N/WCXfvLsipKrJ/vTo39YJd+8uwP6fgAAAAAAAAAAAAAAAAAAAAAAAAAAAAAAAAAAAAAAAAAABVu9BKKyszkFTWyRN6m0WRSxG2GZZTUmlsqe+mi3nC7h4KG9NDNvG23jxUROJpd3Eqr0Iu71S7XTdsFL2OSGBt5rVqp64fu1i5pFK4dOkh23i8SQzPokRlpHSKjHEiflKir6lQD8rwHTD2es+20CSfg9aX5Hqp4vegqGApeTUDOZnDzN9Dw9fSdptiXSyJmEQqJ6Vr8lxDO3j1tej1Msqv5vznYhLxtn0bFOYNzT1qDLx+8ZdMK+ssqd0witLuRWm25ejLCdPS00qIidKqiAeoAAAAAAAAAAAAABS7acYForNojRQuiUu2nGBaKzaI0UIbpD7su6RzhZXof+NsB4qvsqZ5HeoHHVOZtB6zJwTuUK8YdVtTz140jLDE1hGmlX8yI+Z3lU2vaU6w3+x+63fDVyluEDgc+Uf1/C96+A58o/r+F718C+Ox4j5dXCXK/tVjvxxh3wcDnyj+v4XvXwHPlH9fwvevgOx4j5dXCTtVjvxxh3wcDnyj+v4XvXwHPlH9fwvevgOx4j5dXCTtVjvxxh3wcDnyj+v4XvXwHPlH9fwvevgOx4j5dXCTtVjvxxh3wcDnyj+v4XvXwHPlH9fwvevgOx4j5dXCTtVjvxxh3wcDnyj+v4XvXwHPlH9fwvevgOx4j5dXCTtVjvxxh3wcDnyj+v4XvXwHPlH9fwvevgOx4j5dXCTtVjvxxh3wcDnyj+v4XvXwHPlH9fwvevgOx4j5dXCTtVjvxxh3wcDnyj+v4XvXwHPlH9fwvevgOx4j5dXCTtVjvxxh3wcDnyj+v4XvXwHPlH9fwvevgOx4j5dXCTtVjvxxh3wcDnyj+v4XvXwHPlH9fwvevgOx4j5dXCTtVjvxxh3wcDnyj+v4XvXwHPlH9fwvevgOx4j5dXCTtVjvxxh3wcDnyj+v4XvXwHPlH9fwvevgOx4j5dXCTtVjvxxh3wcDnyj+v4XvXwHPlH9fwvevgOx4j5dXCTtVjvxxh3wcDnyj+v4XvXwHPlH9fwvevgOx4j5dXCTtVjvxxh3wcDnyj+v4XvXwHPlH9fwvevgOx4j5dXCTtVjvxxh3wcDnyj+v4XvXwHPlH9fwvevgOx4j5dXCTtVjvxxh3wcDnyj+v4XvXwHPlH9fwvevgOx4j5dXCTtVjvxxh3wcDnyj+v4XvXwHPlH9fwvevgOx4j5dXCTtVjvxxh3wcDnyj+v4XvXwHPlH9fwvevgOx4j5dXCTtVjvxxh3wcDnyj+v4XvXwHPlH9fwvevgOx4j5dXCTtVjvxxh3wcDnyj+v4XvXwHPlH9fwvevgOx4j5dXCTtVjvxxh3wcDnyj+v4XvXwHPlH9fwvevgOx4j5dXCTtVjvxxh3wcDnyj+v4XvXwHPlH9fwvevgOx4j5dXCTtVjvxxh3zNXbe/dZZp+sEX+7IaF8+Uf1/C96+BnHtqaikk6sws3dSqYuolt3PotptGFXoT6Oh+asNfoj/FVRMRpL9U4izXP+GmuJnWGSRKrJ/vTo39YJd+8uyKkosreMOrT6PevGkZYYn0vaaVfzIkQxvPh+L7P6gAcDnyj+v4XvXwHPlH9fwvevgenseI+XVwl5+1WO/HGHfBwOfKP6/he9fAc+Uf1/C96+A7HiPl1cJO1WO/HGHfBwOfKP6/he9fAc+Uf1/C96+A7HiPl1cJO1WO/HGHfBwOfKP6/he9fAc+Uf1/C96+A7HiPl1cJO1WO/HGHfBwOfKP6/he9fAc+Uf1/C96+A7HiPl1cJO1WO/HGHfBwOfKP6/he9fAc+Uf1/C96+A7HiPl1cJO1WO/HGHfBwOfKP6/he9fAc+Uf1/C96+A7HiPl1cJO1WO/HGHfBwOfKP6/he9fAc+Uf1/C96+A7HiPl1cJO1WO/HGHfBwOfKP6/he9fA8yt0vUUZYlJ5ZN3ktiKgZmUS1DejgnzLCulRni3tcSepTz4qmrBWqr+IpmmiPxmYnqj/T/ZJ5Rgr2f423l2WxFy9c64ppiY656omZ/GYj8ImXtgKXfacUL2YT7+uOR9pxQvZhPv645IX/ADDlvzY4T/DP/wDk/wBNv+wq/wDtb/8ANdEHxSSaO53JYCdOnTTpiPhXUUyw0u9WUbYRpEX+lN59pMRMTHXCt66KrdU0VfjH9JAAf1+QAAAAAAAAAAeFW02XVjajb1Y48fydh9Z7RMZMKomz5t+64Xk2duUdS536JWvSKrLT1694kZVlFYTeqLuPdQAPKrfOl5Zqz7bQJV+DD9fkeqnlVvPTFWYs+20CW/g5iV+R6qAAAAAAAAAAAAAACl204wLRWbRGihdEpdtOMC0Vm0RooQ3SH3Zd0jnCyvQ/8bYDxVfZUzyOpS2J5R7/AA+oycs6lLYnlHv8PqMlWYb21Gsc2/mZble8NXKWlQANx3GkAAAAAAAAAAAAAAAAAAAAAAAAAAAAAAAAAAAAAAAAAAAAAAAAAAAAAAAAAAAAACje1UwBQ2cROgheQo3tVMAUNnEToIRedbhc0jnCRyjfbevlLNskFnmP6ZziC12CPkgs8x/TOcQWuwV3b241Z7Xsy3oABbCsQAAAAAAAAAAAAAAAAAACvN87B8gzNrSaLDFeb52D5BmbWk0Yh08+HcTpT91K3fQP+YmWeKv9qtUcAGsDqM3AoHAlOZRB6LJ3jg0DgSnMog9Fk7xd9r2dOkOW+P3q74qucgAPo8gAAAAAAAAAAAOfOKhkFPOnb6fzyXyx29aVl23GRLDlltUTeqIrapvXd0n3MNsPWGXjttlthtEaZaZXeiovqVFA8st36ZhZaz7bQID8IWLX5Hqp5Vbr0zayln22gQf4QUavyPVQAAAAAAAAAAAAAAUu2nGBaKzaI0ULolLtpxgWis2iNFCG6Q+7Lukc4WV6H/jbAeKr7KmeR1KWxPKPf4fUZOWdSlsTyj3+H1GSrMN7ajWObfzMtyveGrlLSoAG47jSAAAAAAAAAAAAAAAAAAAAAAAAAAAAAAAAAAAAAAAAAAAAAAAAAAAAAAAAAAAAABRvaqYAobOInQQvIUb2qmAKGziJ0EIvOtwuaRzhI5RvtvXylm2SCzzH9M5xBa7BHyQWeY/pnOILXYK7t7cas9r2Zb0AAthWIAAAAAAAAAAAAAAAAAABXm+dg+QZm1pNFhivN87B8gzNrSaMQ6efDuJ0p+6lbvoH/MTLPFX+1WqOADWB1GbgUDgSnMog9Fk7xwaBwJTmUQeiyd4u+17OnSHLfH71d8VXOQAH0eQAAAAAAAAAAGc9WwNW2y3xLb3TV2ORWzM0NCSySypiqp07gZdKYVuDR+8cQzl45eI1FP3zTbSPtycLLKflsIqcVn7js0o6Y3aKVhqHgKjlstlTyOljUrqGMZio6Vv3MW9Yewbb1lllGmHTaKw7XhRfRsu96Iu8+CvLtVprq1So7WLvtuTuz6PreCcQ1TQUdTrqcQsVEQ7v0UPGuWWnjtXL5h3vZVN7TDf5O9no6fS7DrIJJYXZpK7OJHM4+aMQTb+JipjHto1ER0ZEPm30REPFToRW3rxtrcnQiKifm3gRO8xEVPCt2WvaOlErmk2Sv4X6PCzOYvICGeL9Xx6rxv3bh+0x0J+Z018zswlQ3nG4pyxH2Q2XuYZp4yj545tGmDxthjf+U0ywsjZRpUTeqIrTKKvRvT1n5W49NRWQs+20Bz+EqmK/I9VAAAAAAAAAAAAAABS7acYForNojRQuiUu2nGBaKzaI0UIbpD7su6RzhZXof+NsB4qvsqZ5HUpbE8o9/h9Rk5Z1KWxPKPf4fUZKsw3tqNY5t/My3K94auUtKgAbjuNIAAAAAAAAeN3lbysju1yOTTyeUzHTlicxbyEdu4R8w7V2rDHFvXi9aHshRvaqYAobOInQQ8GZ368Nha7tuf6x/L2ZfZoxGJot3Pwn+D7VSgOymoP6648D7pFtP6Ens8l0jdWXT503MYtzCMvGoxyqMK8bRlFX+hN5maSCzzH9M5xBa7Bh9GfY6aoiao4QyyrJMHFMzFP1lvQADP2DgAAAAAAAAAAAAAAAAAAAAAAAAAAAAAAAAAAAAAAAAAAAAAUb2qmAKGziJ0ELyFG9qpgChs4idBCLzrcLmkc4SOUb7b18pZtkgs8x/TOcQWuwR8kFnmP6ZziC12Cu7e3GrPa9mW9AALYViAAAAAAAAAAAAAAAAAAAV5vnYPkGZtaTRYYrzfOwfIMza0mjEOnnw7idKfupW76B/wAxMs8Vf7Vao4ANYHUZuBQOBKcyiD0WTvHBoHAlOZRB6LJ3i77Xs6dIct8fvV3xVc5AAfR5AAAAAAAAAAAAAB5Vbf01RY6z7bQGPwk80X5Hqp5VbZ01dYyz7bQP/wBSObL8j1UAAAAAAAAAAAAAAFLtpxgWis2iNFC6JS7acYForNojRQhukPuy7pHOFleh/wCNsB4qvsqZ5HUpbE8o9/h9Rk5Z1KWxPKPf4fUZKsw3tqNY5t/My3K94auUtKgAbjuNIAAAAAAAAUb2qmAKGziJ0ELyFG9qpgChs4idBCLzrcLmkc4SOUb7b18pZtkgs8x/TOcQWuwR8kFnmP6ZziC12Cu7e3GrPa9mW9AALYViAAAAAAAAAAAAAAAAAAAAAAAAAAAAAAAAAAAAAAAAAAAAABRvaqYAobOInQQvIUb2qmAKGziJ0EIvOtwuaRzhI5RvtvXylm2SCzzH9M5xBa7BHyQWeY/pnOILXYK7t7cas9r2Zb0AAthWIAAAAAAAAAAAAAAAAAABXm+dg+QZm1pNFhivN87B8gzNrSaMQ6efDuJ0p+6lbvoH/MTLPFX+1WqOADWB1GbgUDgSnMog9Fk7xwaBwJTmUQeiyd4u+17OnSHLfH71d8VXOQAH0eQAAAAAAAAAAHxRk7k0vepDx83goZ6rKNIw+iGGGt3t3Kvq6FPph4mHi3LMTCP3b502m9l47aRplpP6FToUo/bbY5aZW95iv62eXQ6OtTkUJT0ml8liqsm7mDYbVwy/fPnUEyrt7xPG3kRwq036JlFdoiqu/eWIupVnQVeWE05PbN6AWh5Mw1FwS04rhhz9VxTmJeu4lxwsIjK7nzLxeJETfv3qjKqqIH721dNaWKs+20Bv8JBOF+R6qeK3kImqYWfWNPqLk0qms5Sv3n0aEmkyeS+Fef8Ah6c8XG/duH7bG5niVNzpreqInQi8SdqEqG843FOWI+yGy9zDNPGUfPHNo0weNsMb/wApplhZGyjSom9URWmUVejenrA9QAAAAAAAAAAAAACl204wLRWbRGihdEpdtOMC0Vm0RooQ3SH3Zd0jnCyvQ/8AG2A8VX2VM8jqUtieUe/w+oycs6lLYnlHv8PqMlWYb21Gsc2/mZble8NXKWlQANx3GkAAAAAAAAKN7VTAFDZxE6CF5Cje1UwBQ2cROghF51uFzSOcJHKN9t6+Us2yQWeY/pnOILXYI+SCzzH9M5xBa7BXdvbjVntezLegAFsKxAAAAAAAAAAAAAAAAAAAAPG7yt5WR3a5HJp5PKZjpyxOYt5CO3cI+Ydq7Vhji3rxetD5Xr1FiiblyeqIfS1arvVxbtx1zL2QFG/tVKA7Kag/rrjwPukW0/oSezyXSN1ZdPnTcxi3MIy8ajHKowrxtGUVf6E3ngjOcDM9UXI4T/D2zlOMiOubfL+V1gASiOAAAAAAAAAAAAAAAAAAAKN7VTAFDZxE6CF5Cje1UwBQ2cROghF51uFzSOcJHKN9t6+Us2yQWeY/pnOILXYI+SCzzH9M5xBa7BXdvbjVntezLegAFsKxAAAAAAAAAAAAAAAAAAAK83zsHyDM2tJosMV5vnYPkGZtaTRiHTz4dxOlP3Urd9A/5iZZ4q/2q1RwAawOozcCgcCU5lEHosneODQOBKcyiD0WTvF32vZ06Q5b4/erviq5yAA+jyAAAAAAAAAAArvW13i3B1aBVla2HXlHtGQtbunSzOVzanmJ05g4th0jpIqBVt879A1wIiq7VGmFa6VRehE9MsOsfp+wizKT2Y01HR0fDSxHz19GxzzjiIyJfPWnz9+8X1cTbx421uToTfu/MTwAeVWzdNoFhrPttAifwpieL8j1U8qtk6bRbCk/+v4xf+lp6eqgAAAAAAAAAAAAAApdtOMC0Vm0RooXRKXbTjAtFZtEaKEN0h92XdI5wsr0P/G2A8VX2VM8jqUtieUe/wAPqMnLOpS2J5R7/D6jJVmG9tRrHNv5mW5XvDVylpUADcdxpAAAAAAAACje1UwBQ2cROgheQo3tVMAUNnEToIRedbhc0jnCRyjfbevlLNskFnmP6ZziC12CPkgs8x/TOcQWuwV3b241Z7Xsy3oABbCsQAAAAAAAAAAAAAAAAAACje1UwBQ2cROgheQo3tVMAUNnEToIRedbhc0jnCRyjfbevlLNskFnmP6ZziC12CPkgs8x/TOcQWuwV3b241Z7Xsy3oABbCsQAAAAAAAAAAAAAAAAAACje1UwBQ2cROgheQo3tVMAUNnEToIRedbhc0jnCRyjfbevlLNskFnmP6ZziC12CPkgs8x/TOcQWuwV3b241Z7Xsy3oABbCsQAAAAAAAAAAAAAAAAAACvN87B8gzNrSaLDFeb52D5BmbWk0Yh08+HcTpT91K3fQP+YmWeKv9qtUcAGsDqM3AoHAlOZRB6LJ3jg0DgSnMog9Fk7xd9r2dOkOW+P3q74qucgAPo8gAAAAAAAAAAAPxjIyEl8K+j4+Kcw0NDsNPXz582jDDthE3q000vQiInSqqf6h4hxFuHcVCvnb5y+YR47eO2kaZbZVN6NIqdCoqdKKgHl1sPTaTYWnsrqNa/wCmJ2nzPVTyq17ptOsOT2VpHtf9NzhPmeqgAAAAAAAAAAAAAApdtOMC0Vm0RooXRKXbTjAtFZtEaKEN0h92XdI5wsr0P/G2A8VX2VM8jqUtieUe/wAPqMnLOpS2J5R7/D6jJVmG9tRrHNv5mW5XvDVylpUADcdxpAAAAAAAACje1UwBQ2cROgheQo3tVMAUNnEToIRedbhc0jnCRyjfbevlLNskFnmP6ZziC12CPkgs8x/TOcQWuwV3b241Z7Xsy3oABbCsQAAAAAAAAAAAAAAAAAACje1UwBQ2cROgheQo3tVMAUNnEToIRedbhc0jnCRyjfbevlLNskFnmP6ZziC12CPkgs8x/TOcQWuwV3b241Z7Xsy3oABbCsQAAAAAAAAAAAAAAAAAACje1UwBQ2cROgheQo3tVMAUNnEToIRedbhc0jnCRyjfbevlLNskFnmP6ZziC12CPkgs8x/TOcQWuwV3b241Z7Xsy3oABbCsQAAAAAAAAAAAAAAAAAACvN87B8gzNrSaLDFeb52D5BmbWk0Yh08+HcTpT91K3fQP+YmWeKv9qtUcAGsDqM3AoHAlOZRB6LJ3jg0DgSnMog9Fk7xd9r2dOkOW+P3q74qucgAPo8gAAAAAAAAAAM97+1tMltdk1qFh8jtRltM09ZvT8RMaqb+snEPGz2cehabgZLDMPF4m3XGyjb9plleJpGHTPTxFvLtM/kFR2AWex1NzmXTKFdU1LIZt7AxDD52w9dwrtlt2qsKqI0y0iorPrRU3Kcy1m6rYbavIKohZlZVQrqoakgotylRP6Xg4mNh4p85V2kXxqyjbTxleBrfxo0vAz+Um5FSYWSWY01Y7Z3IrO6VlsuhIOTwTmHeNQMC7g2Ip+ywyjyIadsdCNvGkVtpd6qqtLvVV6QIHeFpiW1lWtjNOTeJm0PCxVXxzTx5KpvFyyKTgkE0aTgiYR47fO+lEReFtOJN7K70VUXtwl3Kz6CinMY5qG1Bp44eMvWEfWp1O9YVWV3ojTDcwVltOjpZaRUVOhUVD8rWem1axJPZVMya/wCZp8z1UAAAAAAAAAAAAAAFLtpxgWis2iNFC6JS7acYForNojRQhukPuy7pHOFleh/42wHiq+ypnkdSlsTyj3+H1GTlnUpbE8o9/h9RkqzDe2o1jm38zLcr3hq5S0qABuO40gAAAAAAABRvaqYAobOInQQvIUb2qmAKGziJ0EIvOtwuaRzhI5RvtvXylm2SCzzH9M5xBa7BHyQWeY/pnOILXYK7t7cas9r2Zb0AAthWIAAAAAAAAAAAAAAAAAABRvaqYAobOInQQvIUb2qmAKGziJ0EIvOtwuaRzhI5RvtvXylm2SCzzH9M5xBa7BHyQWeY/pnOILXYK7t7cas9r2Zb0AAthWIAAAAAHjd5W8rI7tcjk08nlMx05YnMW8hHbuEfMO1dqwxxb14vWh7IUb2qmAKGziJ0EPBmd+vDYWu7bn+sfy9mX2aMRiaLdz8J/g+1UoDspqD+uuPA+6RbT+hJ7PJdI3Vl0+dNzGLcwjLxqMcqjCvG0ZRV/oTeZmkgs8x/TOcQWuwYfRn2OmqImqOEMsqyTBxTMxT9Zb0AAz9g4AAAAAFG9qpgChs4idBC8hRvaqYAobOInQQi863C5pHOEjlG+29fKWbZILPMf0znEFrsEfJBZ5j+mc4gtdgru3txqz2vZlvQAC2FYgAAAAAAAAAAAAAAAAAAFeb52D5BmbWk0WGK83zsHyDM2tJoxDp58O4nSn7qVu+gf8xMs8Vf7Vao4ANYHUZuBQOBKcyiD0WTvHBoHAlOZRB6LJ3i77Xs6dIct8fvV3xVc5AAfR5AAAAAAAAAAAAAB5Vat02tWKJ7KkmjX+BTBPmeqnlVqfTa/Ysnsn02a/wAFjU+Z6qAAAAAAAAAAAAAACl204wLRWbRGihdEpdtOMC0Vm0RooQ3SH3Zd0jnCyvQ/8bYDxVfZUzyOpS2J5R7/AA+oycs6lLYnlHv8PqMlWYb21Gsc2/mZble8NXKWlQANx3GkAAAAAAAAKN7VTAFDZxE6CF5Cje1UwBQ2cROghF51uFzSOcJHKN9t6+Us2yQWeY/pnOILXYI+SCzzH9M5xBa7BXdvbjVntezLegAFsKxAAAAAAAAAAAAAAAAAAAKN7VTAFDZxE6CF5Cje1UwBQ2cROghF51uFzSOcJHKN9t6+Us2yQWeY/pnOILXYI+SCzzH9M5xBa7BXdvbjVntezLegAFsKxAAAAAAo3tVMAUNnEToIXkKN7VTAFDZxE6CEXnW4XNI5wkco323r5SzbJBZ5j+mc4gtdgj5ILPMf0znEFrsFd29uNWe17Mt6AAWwrEAAAAACje1UwBQ2cROgheQo3tVMAUNnEToIRedbhc0jnCRyjfbevlLNskFnmP6ZziC12CPkgs8x/TOcQWuwV3b241Z7Xsy3oABbCsQAAAAAAAAAAAAAAAAAACvN87B8gzNrSaLDFeb52D5BmbWk0Yh08+HcTpT91K3fQP8AmJlnir/arVHABrA6jNwKBwJTmUQeiyd44NA4EpzKIPRZO8Xfa9nTpDlvj96u+KrnIAD6PIAAAAAAAAAADzW0m8nYJY/PIWmrTrWqapubRjlIh1BR8cyw+9ErSssvGmfWwwqo0iNNbkXha3L0Lun0onEpqCVQk9kMzhJlLZg4YiYSMhHzL5zEOW0Rph47bZVWWmVRUVFRVRUUrxXNDo6ibUqzuy07QVdWh1PGu5XVripppxOYT0ECjt3CcLt22qbk9CqwzxphlfSNNK0zv6fp2fD+Caui0FLIaGjoaIkzmMlUxcRjt2w26mDiLfMRTDKO1VngR8jxGN3/AJOHfuXegE1tQ6bY7GU9k5m7X+DxSfM9VPDbfKem9S2p2Oy6TV3PKUfrNJw0kdKHMC8fs7pY9XoSMh37v1IrPSx6m2vz8KpLafsuriTTmEmkxvIWiz2GhnnG8l0wgadYh4lP5jxqHlbp6if7jxlej1geigAAAAAAAAAAAABS7acYForNojRQuiUu2nGBaKzaI0UIbpD7su6RzhZXof8AjbAeKr7KmeR1KWxPKPf4fUZOWdSlsTyj3+H1GSrMN7ajWObfzMtyveGrlLSoAG47jSAAAAAAAAFG9qpgChs4idBC8hRvaqYAobOInQQi863C5pHOEjlG+29fKWbZILPMf0znEFrsEfJBZ5j+mc4gtdgru3txqz2vZlvQAC2FYgAAAAAAAAAAAAAAAAAAFG9qpgChs4idBC8hRvaqYAobOInQQi863C5pHOEjlG+29fKWbZILPMf0znEFrsEfJBZ5j+mc4gtdgru3txqz2vZlvQAC2FYgAAAAAUb2qmAKGziJ0ELyFG9qpgChs4idBCLzrcLmkc4SOUb7b18pZtkgs8x/TOcQWuwR8kFnmP6ZziC12Cu7e3GrPa9mW9AALYViAAAAABRvaqYAobOInQQvIUb2qmAKGziJ0EIvOtwuaRzhI5RvtvXylm2SCzzH9M5xBa7BHyQWeY/pnOILXYK7t7cas9r2Zb0AAthWIAAAAAAHjd5W8rI7tcjk08nlMx05YnMW8hHbuEfMO1dqwxxb14vWh8r16ixRNy5PVEPpatV3q4t2465l7ICjf2qlAdlNQf11x4H3SLaf0JPZ5LpG6sunzpuYxbmEZeNRjlUYV42jKKv9CbzwRnOBmeqLkcJ/h7ZynGRHXNvl/K6wAJRHAAAAAAV5vnYPkGZtaTRYYrzfOwfIMza0mjEOnnw7idKfupW76B/zEyzxV/tVqjgA1gdRm4FA4EpzKIPRZO8cGgcCU5lEHosneLvtezp0hy3x+9XfFVzkAB9HkAAAAAAAAAABX+v7nkiqyu6ktBo62K0uzmPrOGdw9ROKUmzmHh5i07YR2y/Vl65eK6fo7RGPSO1ZXcm/1q0rXqdlNllF2LUDKbNbPpY1AyOTu2mHDtt4rx42222rbx48ba6W2222mmmlX87S+pNyEtAHlVpfTbXY6nsjp21/hjxPmeqnlVpHTbfY+nsiJ41/h7SfM9VAAAAAAAAAAAAAABS7acYForNojRQuiUu2nGBaKzaI0UIbpD7su6RzhZXof+NsB4qvsqZ5HUpbE8o9/h9Rk5Z1KWxPKPf4fUZKsw3tqNY5t/My3K94auUtKgAbjuNIAAAAAAAAUb2qmAKGziJ0ELyFG9qpgChs4idBCLzrcLmkc4SOUb7b18pZtkgs8x/TOcQWuwR8kFnmP6ZziC12Cu7e3GrPa9mW9AALYViAAAAAAAAAAAAAAAAAAAUb2qmAKGziJ0ELyFG9qpgChs4idBCLzrcLmkc4SOUb7b18pZtkgs8x/TOcQWuwR8kFnmP6ZziC12Cu7e3GrPa9mW9AALYViAAAAABRvaqYAobOInQQvIUb2qmAKGziJ0EIvOtwuaRzhI5RvtvXylm2SCzzH9M5xBa7BHyQWeY/pnOILXYK7t7cas9r2Zb0AAthWIAAAAAFG9qpgChs4idBC8hRvaqYAobOInQQi863C5pHOEjlG+29fKWbZILPMf0znEFrsEfJBZ5j+mc4gtdgru3txqz2vZlvQAC2FYgAAAAAUb2qmAKGziJ0ELyFG9qpgChs4idBCLzrcLmkc4SOUb7b18pZtkgs8x/TOcQWuwR8kFnmP6ZziC12Cu7e3GrPa9mW9AALYViAAAAABXm+dg+QZm1pNFhivN87B8gzNrSaMQ6efDuJ0p+6lbvoH/MTLPFX+1WqOADWB1GbgUDgSnMog9Fk7xwaBwJTmUQeiyd4u+17OnSHLfH71d8VXOQAH0eQAAAAAAAAAAAHMnVUU1TfoOYqilkr+ktKw4+mxbtx6VpPWjPGqcS9Keo6TLTLbKNsNI0y0m9FRd6KgHldovTbpZCnsbnzX9xRPmeqnlVoXTbxZInsYqBr+6O0+Z6qAAAAAAAAAAAAAACl204wLRWbRGihdEpdtOMC0Vm0RooQ3SH3Zd0jnCyvQ/8AG2A8VX2VM8jqUtieUe/w+oycs6lLYnlHv8PqMlWYb21Gsc2/mZble8NXKWlQANx3GkAAAAAAAAKN7VTAFDZxE6CF5Cje1UwBQ2cROghF51uFzSOcJHKN9t6+Us2yQWeY/pnOILXYI+SCzzH9M5xBa7BXdvbjVntezLegAFsKxAAAAAAAAAAAAAAAAAAAKN7VTAFDZxE6CF5Cje1UwBQ2cROghF51uFzSOcJHKN9t6+Us2yQWeY/pnOILXYI+SCzzH9M5xBa7BXdvbjVntezLegAFsKxAAAAAAo3tVMAUNnEToIXkKN7VTAFDZxE6CEXnW4XNI5wkco323r5SzbJBZ5j+mc4gtdgj5ILPMf0znEFrsFd29uNWe17Mt6AAWwrEAAAAACje1UwBQ2cROgheQo3tVMAUNnEToIRedbhc0jnCRyjfbevlLNskFnmP6ZziC12CPkgs8x/TOcQWuwV3b241Z7Xsy3oABbCsQAAAAAKN7VTAFDZxE6CF5Cje1UwBQ2cROghF51uFzSOcJHKN9t6+Us2yQWeY/pnOILXYI+SCzzH9M5xBa7BXdvbjVntezLegAFsKxAAAAAArzfOwfIMza0miwxXm+dg+QZm1pNGIdPPh3E6U/dSt30D/AJiZZ4q/2q1RwAawOozcCgcCU5lEHosneODQOBKcyiD0WTvF32vZ06Q5b4/erviq5yAA+jyAAAAAAAAAAApjeFpS7FZ9atVNpN41xD2q1RXMJCy+i6EZkjU0mcLDOHCstuIGG42+l6+R48V/wuUZaVU4t+9WvWrktn9fWYXa6Toy0iCfwE3g/pbbuXP41Yt5LYN5EvG4WEae9O9XTlp2xuRVRnh3J6jz6rbnNuT+3mtLdrLL2Dii5hWKQjhp0+s9gpw/goWHcsu2YZ1ERT9VYdqqcbTLDLCNNblVFVN5YayimrQaRoeCkVqFpnP9ROG3zUTPvqZxKvpLLTxpp2z9GcKrtjgYVljei9PDvXpUCAW2T2aU7bDZXNJPRk4qmKdOZ/wyyUvYN3EvEVw4ZVplqMfuHO5lF3rxPEXcnQir0Epp+1GuJzOYSVzG7faLIoaJecDyYzCOp1uHhk/nvGYeaPXqp/uO2l6fUc+vem8BZQnsgaja/wDZhU+Z6qAAAAAAAAAAAAAACl204wLRWbRGihdEpdtOMC0Vm0RooQ3SH3Zd0jnCyvQ/8bYDxVfZUzyOpS2J5R7/AA+oycs6lLYnlHv8PqMlWYb21Gsc2/mZble8NXKWlQANx3GkAAAAAAAAKN7VTAFDZxE6CF5Cje1UwBQ2cROghF51uFzSOcJHKN9t6+Us2yQWeY/pnOILXYI+SCzzH9M5xBa7BXdvbjVntezLegAFsKxAAAAAA8NvN3qqfuy8t/XtKTCdcyfTPRfRHzDv0X0f0PFxcXr3+nTdu/mqe5Gfe1h/RZ+3P4Ejs1xFzC4Su7anqmOrnEPdltijE4qm1cj+k9fKZSD7VSgOymoP6648DuUJtKqIruuKeoeEs0nkK/qGawkqdP3kW5aYdNv3zLpG2kTpVEVveqJ7DL89Bu8ff/Zn+uMl/fXRidnPcdXcppmr+kzH+kMou5Lg6bdVUU/hE/6y3HABnrCQAAAAAKN7VTAFDZxE6CF5Cje1UwBQ2cROghF51uFzSOcJHKN9t6+Us2yQWeY/pnOILXYI+SCzzH9M5xBa7BXdvbjVntezLegAFsKxAAAAAAo3tVMAUNnEToIXkKN7VTAFDZxE6CEXnW4XNI5wkco323r5SzbJBZ5j+mc4gtdgj5ILPMf0znEFrsFd29uNWe17Mt6AAWwrEAAAAACje1UwBQ2cROgheQo3tVMAUNnEToIRedbhc0jnCRyjfbevlLNskFnmP6ZziC12CPkgs8x/TOcQWuwV3b241Z7Xsy3oABbCsQAAAAAKN7VTAFDZxE6CF5Cje1UwBQ2cROghF51uFzSOcJHKN9t6+Us2yQWeY/pnOILXYI+SCzzH9M5xBa7BXdvbjVntezLegAFsKxAAAAAArzfOwfIMza0miwxXm+dg+QZm1pNGIdPPh3E6U/dSt30D/mJlnir/AGq1RwAawOozcCgcCU5lEHosneODQOBKcyiD0WTvF32vZ06Q5b4/erviq5yAA+jyAAAAAAAAAAAAADyquum8JZUnsllStf8Aog0+Z6qeVVv03ibLE9kmqZr8IBPmeqgAAAAAAAAAAAAAApdtOMC0Vm0RooXRKXbTjAtFZtEaKEN0h92XdI5wsr0P/G2A8VX2VM8jqUtieUe/w+oycs6lLYnlHv8AD6jJVmG9tRrHNv5mW5XvDVylpUADcdxpAAAAAAAACje1UwBQ2cROgheQo3tVMAUNnEToIRedbhc0jnCRyjfbevlLNskFnmP6ZziC12CPkgs8x/TOcQWuwV3b241Z7Xsy3oABbCsQAAAAAM+9rD+iz9ufwJoIZ97WH9Fn7c/gSIz33fc/t90JTJd+o/vyln2eg3ePv/sz/XGS/vro8+PQbvH3/wBmf64yX99dGA4f21Gsc2b3/ZVaTybjgAtVWgAAAAAFG9qpgChs4idBC8hRvaqYAobOInQQi863C5pHOEjlG+29fKWbZILPMf0znEFrsEfJBZ5j+mc4gtdgru3txqz2vZlvQAC2FYgAAAAAUb2qmAKGziJ0ELyFG9qpgChs4idBCLzrcLmkc4SOUb7b18pZtkgs8x/TOcQWuwR8kFnmP6ZziC12Cu7e3GrPa9mW9AALYViAAAAABRvaqYAobOInQQvIUb2qmAKGziJ0EIvOtwuaRzhI5RvtvXylm2SCzzH9M5xBa7BHyQWeY/pnOILXYK7t7cas9r2Zb0AAthWIAAAAAFG9qpgChs4idBC8hRvaqYAobOInQQi863C5pHOEjlG+29fKWbZILPMf0znEFrsEfJBZ5j+mc4gtdgru3txqz2vZlvQAC2FYgAAAAAV5vnYPkGZtaTRYYrzfOwfIMza0mjEOnnw7idKfupW76B/zEyzxV/tVqjgA1gdRm4FA4EpzKIPRZO8cGgcCU5lEHosneLvtezp0hy3x+9XfFVzkAB9HkAAAAAAAAAAB+EZHQUucLFTCMcQrlGmWFePniMMo000jLKb16N6qqIntVUQ/cp1tEaBm0fStM18lpdUw0ul1YUzDrS7h64YlUU21MnbKvnzKO/TPG040VEV4rCK7YVGd6by4oHlVadN42y9PZIaoa/8AVLU+Z6qeF2y1JOaYt9suj5HZ/P6vftSGqGFgZK+gHT9lnjlf/aKsbEw7vhToTobVrpTci9O6X0/ajXE5nMJK5jdvtFkUNEvOB5MZhHU63Dwyfz3jMPNHr1U/3HbS9PqA9FAAAAo/eP2ptA3cbZ6isYndldQTiNp76J6WNhY1y7dPfTwjmJThZa6U3I+Rld/50UC8AM1ftvbLOw+qv7RhvA9wuibRai73VpMys2pyzmdSCJlsjfTxuJjYt09YbYdxDhyrtEY6d6rEMrv9W5lQLdAAAAABS7acYForNojRQuiUu2nGBaKzaI0UIbpD7su6RzhZXof+NsB4qvsqZ5HUpbE8o9/h9Rk5Z1KWxPKPf4fUZKsw3tqNY5t/My3K94auUtKgAbjuNIAAAAAAAAUb2qmAKGziJ0ELyFG9qpgChs4idBCLzrcLmkc4SOUb7b18pZtkgs8x/TOcQWuwR8kFnmP6ZziC12Cu7e3GrPa9mW9AALYViAAAAABn3tYf0Wftz+BNBDPvaw/os/bn8CRGe+77n9vuhKZLv1H9+Us+z0G7x9/9mf64yX99dHnx6Dd4+/8Asz/XGS/vrowHD+2o1jmze/7KrSeTccAFqq0AAAAAAo3tVMAUNnEToIXkKN7VTAFDZxE6CEXnW4XNI5wkco323r5SzbJBZ5j+mc4gtdgj5ILPMf0znEFrsFd29uNWe17Mt6AAWwrEAAAAACje1UwBQ2cROgheQo3tVMAUNnEToIRedbhc0jnCRyjfbevlLNskFnmP6ZziC12CPkgs8x/TOcQWuwV3b241Z7Xsy3oABbCsQAAAAAKN7VTAFDZxE6CF5Cje1UwBQ2cROghF51uFzSOcJHKN9t6+Us2yQWeY/pnOILXYI+SCzzH9M5xBa7BXdvbjVntezLegAFsKxAAAAAAo3tVMAUNnEToIXkKN7VTAFDZxE6CEXnW4XNI5wkco323r5SzbJBZ5j+mc4gtdgj5ILPMf0znEFrsFd29uNWe17Mt6AAWwrEAAAAACvN87B8gzNrSaLDFeb52D5BmbWk0Yh08+HcTpT91K3fQP+YmWeKv9qtUcAGsDqM3AoHAlOZRB6LJ3jg0DgSnMog9Fk7xd9r2dOkOW+P3q74qucgAPo8gAAAAAAAAAAPNbf7GmbdKGhaLaqJZKkNPZVOvpKQn0ji+hxbuI9FwcbG7j9Hw8W/8AJ379zW7cvpQAHlVX9N5WzNPZS1Vtf+/J0+Z6qeVVZ03mbNU9lIVa1/eZInzPVQAAAGAO1H/l2Wm/sX/J4I3+MAdqP/LstN/Yv+TwQFVS/wDsVP5U9U/8P47/ADGXFAC/+xU/lT1T/wAP47/MZcBtSAAAAAFLtpxgWis2iNFC6JS7acYForNojRQhukPuy7pHOFleh/42wHiq+ypnkdSlsTyj3+H1GTlnUpbE8o9/h9RkqzDe2o1jm38zLcr3hq5S0qABuO40gAAAAAAABRvaqYAobOInQQvIUb2qmAKGziJ0EIvOtwuaRzhI5RvtvXylm2SCzzH9M5xBa7BHyQWeY/pnOILXYK7t7cas9r2Zb0AAthWIAAAAAGfe1h/RZ+3P4E0EM+9rD+iz9ufwJEZ77vuf2+6Epku/Uf35Sz7PQbvH3/2Z/rjJf310efHoN3j7/wCzP9cZL++ujAcP7ajWObN7/sqtJ5NxwAWqrQAAAAACje1UwBQ2cROgheQo3tVMAUNnEToIRedbhc0jnCRyjfbevlLNskFnmP6ZziC12CPkgs8x/TOcQWuwV3b241Z7Xsy3oABbCsQAAAAAKN7VTAFDZxE6CF5Cje1UwBQ2cROghF51uFzSOcJHKN9t6+Us2yQWeY/pnOILXYI+SCzzH9M5xBa7BXdvbjVntezLegAFsKxAAAAAAo3tVMAUNnEToIXkKN7VTAFDZxE6CEXnW4XNI5wkco323r5SzbJBZ5j+mc4gtdgj5ILPMf0znEFrsFd29uNWe17Mt6AAWwrEAAAAACje1UwBQ2cROgheQo3tVMAUNnEToIRedbhc0jnCRyjfbevlLNskFnmP6ZziC12CPkgs8x/TOcQWuwV3b241Z7Xsy3oABbCsQAAAAAK83zsHyDM2tJosMV5vnYPkGZtaTRiHTz4dxOlP3Urd9A/5iZZ4q/2q1RwAawOozcCgcCU5lEHosneODQOBKcyiD0WTvF32vZ06Q5b4/erviq5yAA+jyAAAAAAAAAAAA+CaT+RSNHSzudQEvR+1wOvpUSw69I10dDPEqb16U9XtPvA8qqnpvPWcJ7KLq5r++SJPmeqnlVTdN6KzpPZQtYNf36n0+Z6qAAAAwB2o/wDLstN/Yv8Ak8Eb/GAO1H/l2Wm/sX/J4ICqpf8A2Kn8qeqf+H8d/mMuKAF/9ip/Knqn/h/Hf5jLgNqQAAAAApdtOMC0Vm0RooXRKXbTjAtFZtEaKEN0h92XdI5wsr0P/G2A8VX2VM8jqUtieUe/w+oycs6lLYnlHv8AD6jJVmG9tRrHNv5mW5XvDVylpUADcdxpAAAAAAAACje1UwBQ2cROgheQo3tVMAUNnEToIRedbhc0jnCRyjfbevlLNskFnmP6ZziC12CPkgs8x/TOcQWuwV3b241Z7Xsy3oABbCsQAAAAAM+9rD+iz9ufwJoIZ97WH9Fn7c/gSIz33fc/t90JTJd+o/vyln2eg3ePv/sz/XGS/vro8+PQbvH3/wBmf64yX99dGA4f21Gsc2b3/ZVaTybjgAtVWgAAAAAFG9qpgChs4idBC8hRvaqYAobOInQQi863C5pHOEjlG+29fKWbZILPMf0znEFrsEfJBZ5j+mc4gtdgru3txqz2vZlvQAC2FYgAAAAAUb2qmAKGziJ0ELyFG9qpgChs4idBCLzrcLmkc4SOUb7b18pZtkgs8x/TOcQWuwR8kFnmP6ZziC12Cu7e3GrPa9mW9AALYViAAAAABRvaqYAobOInQQvIUb2qmAKGziJ0EIvOtwuaRzhI5RvtvXylm2SCzzH9M5xBa7BHyQWeY/pnOILXYK7t7cas9r2Zb0AAthWIAAAAAFG9qpgChs4idBC8hRvaqYAobOInQQi863C5pHOEjlG+29fKWbZILPMf0znEFrsEfJBZ5j+mc4gtdgru3txqz2vZlvQAC2FYgAAAAAV5vnYPkGZtaTRYYrzfOwfIMza0mjEOnnw7idKfupW76B/zEyzxV/tVqjgA1gdRm4FA4EpzKIPRZO8cGgcCU5lEHosneLvtezp0hy3x+9XfFVzkAB9HkAAAAAAAAAABTah7HLNbxt5O8HPbbKRgawSnJhL6PkkPNXTL9xK4BIB2+efRkVP+zetvXzbavE/LZVfyWk3qei3DZnOY67ZJpdO509mzyn5tOpBDRj18r1t5CQUyiIeH3tr0t7nTthlF/OjKHy2i3Y7T3tptT2m3f7eVs5iq8gHMJU0LEyBibOH0Q5YR05joZlp679DEMuvyFX8plrcyqpvQ9YsXsnpyw6zCn7LKVexL+XyGG9CkRFNI0/inrTStvX7xU6FbePG2213dG9ro6AOFaXS1py2m0laZZrJKXnTyRyKeSOLgJ5PIiVMqkdES18w+dvXMHFcSs/VzTKsKwzv9Kio1+TuX/PMd6fsbsq+Jcx8iPVQB5VzHen7G7KviXMfIhzHen7G7KviXMfIj1UAeVcx3p+xuyr4lzHyIo/eP2attF462eorZ53L6Kk8bUP0T0sFC19FvHTr0EI5hk4WmpFvXejlGl3/nVTTUAZAfYzWqf/OUp/z1E+RHuF0S4ZbndFtJmVpNOSGhJ/EzKRvpG3DRtoEY6YYYeRDh8rxFYkW/eiw7KbvVuaU0PAHlXMd6fsbsq+Jcx8iHMd6fsbsq+Jcx8iPVQB5VzHen7G7KviXMfIhzHen7G7KviXMfIj1UAeVcx3p+xuyr4lzHyI8cvKWJXnLyEjk0ki6TswppJPFvIpHrutZhHK+Vpjh4eFZQ64d3r371/wDsW4B8MThreLtTZux10z+KVyTOsZ0ex9vM8BV/hu25maZmInq64mPwn+k/0mWYT/Zv3knSojuY2ePt/wCdidxibv8A8oJD9JZs8rzEsmUJMmWqAerCP3b9Haz6KZRtWWkXdv8Aoa7t+717lNOQRVHRvLbcxVFv+sfrV/Kxb3pv6a36KrdeJp6piYn/ANu3+E//ABVP5CvX9ldmnxAjPKByFev7K7NPiBGeUFsAZt6/x/ejhCjvUeC7v1lU/kK9f2V2afECM8oHIV6/srs0+IEZ5QWwA9f4/vRwg9R4Lu/WVT+Qr1/ZXZp8QIzygchXr+yuzT4gRnlBbAD1/j+9HCD1Hgu79ZVP5CvX9ldmnxAjPKByFev7K7NPiBGeUFsAPX+P70cIPUeC7v1lU/kK9f2V2afECM8oPHLyty28neUkcmkc8pGgpMxJot5Fu3kJXcS8V4rbHDuXilHQhomD5Xs6xd+ibdyYmJ/SH0tZRhbNcXLcTEx+ssbPsbrcP51K/wDOb7yk+6RbIO3SRTyXTx0xSb1uXRbmLZdtVo+RG1dto0iL/wB0+pdxsKDwRe6p64pjg9s2euOqZniqfyFev7K7NPiBGeUDkK9f2V2afECM8oLYAlPX+P70cIR3qPBd36yqfyFev7K7NPiBGeUDkK9f2V2afECM8oLYAev8f3o4Qeo8F3frKp/IV6/srs0+IEZ5QOQr1/ZXZp8QIzygtgB6/wAf3o4Qeo8F3frKp/IV6/srs0+IEZ5QeHXm7jF4+81y39e0tQkl5b+mei+iV1EvPS/SPQ8XFxSjo3egTdu/nKaQg+V7OcXiKJt3ZiYn9IfWzlOFsVxctxMTH6yxs+xutw/nUr/zm+8pO5QmyYt4oSuKeriEh6Rin9PTWEmrpw8rV8yw9bcPmXqMNKkp3oiqxuVU9pruDw035pmKopjrj9HsqsxVHVMzxVP5CvX9ldmnxAjPKByFev7K7NPiBGeUFsASfr/H96OEI71Hgu79ZVP5CvX9ldmnxAjPKByFev7K7NPiBGeUFsAPX+P70cIPUeC7v1lU/kK9f2V2afECM8oHIV6/srs0+IEZ5QWwA9f4/vRwg9R4Lu/WVT+Qr1/ZXZp8QIzyg8OvVXJ7195qn5FIvqKzSm/qWMeRfpeboyM9LxscPDw/Vrvh3evfvU0hB8r2c4vEW5tXaommf0h9bOU4WxXFy3HVMfrLEv7GC9f/ALU2af2vGf6Q6NObHa9dIaglk9WorNX/ANXRjmL9Ek5jGfSejbRrh3/Q13b927fuXdv9Sm0YI6K4ieuIj6/y980TMdUzy/hU/kK9f2V2afECM8oHIV6/srs0+IEZ5QWwBLev8f3o4Qi/UeC7v1lU/kK9f2V2afECM8oHIV6/srs0+IEZ5QWwA9f4/vRwg9R4Lu/WVT+Qr1/ZXZp8QIzygchXr+yuzT4gRnlBbAD1/j+9HCD1Hgu79ZVP5CvX9ldmnxAjPKDw69VcnvX3mqfkUi+orNKb+pYx5F+l5ujIz0vGxw8PD9Wu+Hd69+9TSEHyvZzi8Rbm1dqiaZ/SH1s5ThbFcXLcdUx+ssS/sYL1/wDtTZp/a8Z/pDoU7sdr18gqCWT3mGzR/wDV0Y5i/RfXMYz6T0baNcPF9DXdv3bt+5TaQEdFcRPXER9f5e+aJmOqZ5fwqfyFev7K7NPiBGeUDkK9f2V2afECM8oLYAlvX+P70cIRfqPBd36yqfyFev7K7NPiBGeUDkK9f2V2afECM8oLYAev8f3o4Qeo8F3frKp/IV6/srs0+IEZ5QOQr1/ZXZp8QIzygtgB6/x/ejhB6jwXd+sqn8hXr+yuzT4gRnlB4dequT3r7zVPyKRfUVmlN/UsY8i/S83RkZ6XjY4eHh+rXfDu9e/eppCD5Xs5xeItzau1RNM/pD62cpwtiuLluOqY/WWJf2MF6/8A2ps0/teM/wBIdCndjtevkFQSye8w2aP/AKujHMX6L65jGfSejbRrh4voa7t+7dv3KbSAjoriJ64iPr/L3zRMx1TPL+FT+Qr1/ZXZp8QIzygchXr+yuzT4gRnlBbAEt6/x/ejhCL9R4Lu/WVT+Qr1/ZXZp8QIzygchXr+yuzT4gRnlBbAD1/j+9HCD1Hgu79ZVP5CvX9ldmnxAjPKByFev7K7NPiBGeUFsAPX+P70cIPUeC7v1lU/kK9f2V2afECM8oPHLyty28neUkcmkc8pGgpMxJot5Fu3kJXcS8V4rbHDuXilHQhomD5Xs6xd+ibdyYmJ/SH0tZRhbNcXLcTEx+ssbPsbrcP51K/85vvKT7pFsg7dJFPJdPHTFJvW5dFuYtl21Wj5EbV22jSIv/dPqXcbCg8EXuqeuKY4PbNnrjqmZ4qn8hXr+yuzT4gRnlA5CvX9ldmnxAjPKC2AJT1/j+9HCEd6jwXd+sqn8hXr+yuzT4gRnlA5CvX9ldmnxAjPKC2AHr/H96OEHqPBd36yqfyFev7K7NPiBGeUDkK9f2V2afECM8oLYAev8f3o4Qeo8F3frKp/IV6/srs0+IEZ5QQa1i6/egtllUFKI+m7NafZgIhYll6lYRsX6VVZVnh4UljHD69+/epekHizHH381w1eDxU9dFX4x1dX4TE/jH6wm+jtyrormdrN8s/6b1qZmmZ/6ojriaZ/pPXE/wBJn8WZH2bF47r2zf8AtqP/ANCPs2Lx3Xtm/wDbUf8A6E03BiX+V8t7k8Z/lbf/AD16bf8Ac0//AJ0f+LxuQx16WRSOXSRmyOyt+kvhHMKj1bSJiwrxHbCM8XD9RLu37t+7eu72qffzHen7G7KviXMfIj1UE/ERTHVCo7lyq7XNyr8Znrn+7yrmO9P2N2VfEuY+RDmO9P2N2VfEuY+RHqoP6/DyrmO9P2N2VfEuY+RDmO9P2N2VfEuY+RHqoA8q5jvT9jdlXxLmPkR8l2GpbyVU2e/WF5yz+nqUqRH3C4cSmN9Kr5xu6G3zpGnjLlv1dCPWt+9d7LvdwnsAAAAD/9k=)\n",
        "\n",
        "\n",
        "Input: height = [1,8,6,2,5,4,8,3,7]\n",
        "\n",
        "Output: 49\n",
        "\n",
        "Explicação: As linhas verticais acima são representadas pelo array [1,8,6,2,5,4,8,3,7]. Neste caso, a área máxima de água (seção azul) que o recipiente pode conter é 49."
      ]
    },
    {
      "cell_type": "markdown",
      "metadata": {
        "id": "ni8gUSmHCNai"
      },
      "source": [
        "Exemplo 2:\n",
        "\n",
        "Input: height = [1,1]\n",
        "\n",
        "Output: 1"
      ]
    },
    {
      "cell_type": "code",
      "execution_count": null,
      "metadata": {
        "id": "F4-2Nm4mCNai"
      },
      "outputs": [],
      "source": [
        "def maxArea(height):\n",
        "    l = 0\n",
        "    r = len(height)-1\n",
        "\n",
        "    area_max = 0\n",
        "    while l < r:\n",
        "        area = (r-l) * min(height[l], height[r])\n",
        "        if area > area_max:\n",
        "            area_max = area\n",
        "        if height[l] < height[r]:\n",
        "            l += 1\n",
        "        else:\n",
        "            r -= 1\n",
        "\n",
        "    return area_max"
      ]
    },
    {
      "cell_type": "code",
      "execution_count": null,
      "metadata": {
        "id": "KGamstvPCNai",
        "colab": {
          "base_uri": "https://localhost:8080/"
        },
        "outputId": "b97f4ca8-0abb-462d-fc0c-987728b92304"
      },
      "outputs": [
        {
          "output_type": "stream",
          "name": "stdout",
          "text": [
            "49\n",
            "1\n",
            "12\n",
            "6\n",
            "24\n"
          ]
        }
      ],
      "source": [
        "print(maxArea([1,8,6,2,5,4,8,3,7])) # deve retornar 49\n",
        "print(maxArea([1,1])) # deve retornar 1\n",
        "print(maxArea([4, 4, 4, 4])) # deve retornar 12\n",
        "print(maxArea([5, 4, 3, 2, 1])) # deve retornar 6\n",
        "print(maxArea([1, 3, 2, 5, 25, 24, 5])) # deve retornar 24"
      ]
    },
    {
      "cell_type": "markdown",
      "metadata": {
        "id": "yORzqjpLCNai"
      },
      "source": [
        "# <font size=\"8\">Questão 5 - Encontre o número mais próximo de zero [1]</font>"
      ]
    },
    {
      "cell_type": "markdown",
      "metadata": {
        "id": "LF8iWHf4CNai"
      },
      "source": [
        "Dado um array de inteiro nums de tamanho n, retorne o número com o valor mais próximo de 0 em nums. Se tiver múltiplas respostas, retorne o número com o maior valor."
      ]
    },
    {
      "cell_type": "markdown",
      "metadata": {
        "id": "jl2CgymdCNai"
      },
      "source": [
        "Exemplo 1:\n",
        "\n",
        "Input: nums = [-4,-2,1,4,8]\n",
        "\n",
        "Output: 1\n",
        "\n",
        "Explicação:\n",
        "\n",
        "A distância de -4 a 0 é |-4| = 4.\n",
        "\n",
        "A distância de -2 a 0 é |-2| = 2.\n",
        "\n",
        "A distância de 1 a 0 é |1| = 1.\n",
        "\n",
        "A distância de 4 a 0 é |4| = 4.\n",
        "\n",
        "A distância de 8 a 0 é |8| = 8.\n",
        "\n",
        "Assim, o número mais próximo de 0 na matriz é 1.\n"
      ]
    },
    {
      "cell_type": "markdown",
      "metadata": {
        "id": "MGJqGTLeCNai"
      },
      "source": [
        "Exemplo 2:\n",
        "\n",
        "Input: nums = [2,-1,1]\n",
        "\n",
        "Output: 1\n",
        "\n",
        "Explicação: 1 e -1 são os números mais próximos de 0, portanto, 1 sendo maior é retornado."
      ]
    },
    {
      "cell_type": "code",
      "execution_count": null,
      "metadata": {
        "id": "TbBcqx_FCNaj"
      },
      "outputs": [],
      "source": [
        "def findClosestNumber(nums):\n",
        "    closest = 10000\n",
        "    for num in nums:\n",
        "        if abs(num) <= abs(closest):\n",
        "            closest = num\n",
        "\n",
        "    return closest"
      ]
    },
    {
      "cell_type": "code",
      "execution_count": null,
      "metadata": {
        "id": "WEVRYJ3KCNaj",
        "colab": {
          "base_uri": "https://localhost:8080/"
        },
        "outputId": "2630054b-1ef8-4b73-a8bf-7f5d71edda46"
      },
      "outputs": [
        {
          "output_type": "stream",
          "name": "stdout",
          "text": [
            "1\n",
            "1\n",
            "0\n",
            "-1\n",
            "3\n"
          ]
        }
      ],
      "source": [
        "print(findClosestNumber([-4,-2,1,4,8])) # deve retornar 1\n",
        "print(findClosestNumber([2,-1,1])) # deve retornar 1\n",
        "print(findClosestNumber([0, 5, 10, -3, 7])) # deve retornar 0\n",
        "print(findClosestNumber([-10, -5, -8, -1, -7])) # deve retornar -1\n",
        "print(findClosestNumber([-3, 3, 5, -5])) # deve retornar 3"
      ]
    },
    {
      "cell_type": "markdown",
      "metadata": {
        "id": "AezFIonlCNaj"
      },
      "source": [
        "# <font size=\"8\">Questão 6 - Mesclar strings alternadamente[1]</font>"
      ]
    },
    {
      "cell_type": "markdown",
      "metadata": {
        "id": "LtKmNRXgCNaj"
      },
      "source": [
        "Você recebe duas strings word1 e word2. Mescle as strings adicionando letras em ordem alternada, começando com word1. Se uma string for maior que a outra, anexe as letras adicionais ao final da string mesclada.\n",
        "\n",
        "Retorne a string alternada."
      ]
    },
    {
      "cell_type": "markdown",
      "metadata": {
        "id": "hWlq8ncCCNaj"
      },
      "source": [
        "Exemplo 1:\n",
        "\n",
        "Input: word1 = \"abc\", word2 = \"pqr\"\n",
        "\n",
        "Output: \"apbqcr\"\n",
        "\n",
        "Explicação: A string 'mesclada' vais ser alternada de tal forma:\n",
        "\n",
        "word1:  a   b   c\n",
        "\n",
        "word2:    p   q   r\n",
        "\n",
        "merged: a p b q c r\n"
      ]
    },
    {
      "cell_type": "markdown",
      "metadata": {
        "id": "Cw7PGoraCNaj"
      },
      "source": [
        "Exemplo 2:\n",
        "\n",
        "Input: word1 = \"ab\", word2 = \"pqrs\"\n",
        "\n",
        "Output: \"apbqrs\"\n",
        "\n",
        "Explicação: Observe que como a word2 é mais longa, “rs” é anexado ao final.\n",
        "\n",
        "word1:  a   b\n",
        "\n",
        "word2:    p   q   r   s\n",
        "\n",
        "merged: a p b q   r   s\n"
      ]
    },
    {
      "cell_type": "markdown",
      "metadata": {
        "id": "uoAVGbKECNaj"
      },
      "source": [
        "Exemplo 3:\n",
        "\n",
        "Input: word1 = \"abcd\", word2 = \"pq\"\n",
        "\n",
        "Output: \"apbqcd\"\n",
        "\n",
        "Explicação: Observe que como word1 é mais longa, “cd” é anexado ao final.\n",
        "\n",
        "word1:  a   b   c   d\n",
        "\n",
        "word2:    p   q\n",
        "\n",
        "merged: a p b q c   d\n"
      ]
    },
    {
      "cell_type": "code",
      "execution_count": null,
      "metadata": {
        "id": "w8pbDwguCNak"
      },
      "outputs": [],
      "source": [
        "def mergeAlternately(word1, word2):\n",
        "    if word1 == '':\n",
        "        return word2\n",
        "    if word2 == '':\n",
        "        return word1\n",
        "\n",
        "    list1 = list(word1)\n",
        "    list2 = list(word2)\n",
        "    list3 = []\n",
        "\n",
        "    while True:\n",
        "        try:\n",
        "            list3.append(list1.pop(0))\n",
        "            list3.append(list2.pop(0))\n",
        "        except IndexError:\n",
        "            break\n",
        "\n",
        "    if list1 != '':\n",
        "        for elemento in list1:\n",
        "            list3.append(elemento)\n",
        "    if list2 != '':\n",
        "        for elemento in list2:\n",
        "            list3.append(elemento)\n",
        "\n",
        "    return ''.join(list3)nj"
      ]
    },
    {
      "cell_type": "code",
      "execution_count": null,
      "metadata": {
        "id": "BpCM1sntCNak",
        "colab": {
          "base_uri": "https://localhost:8080/"
        },
        "outputId": "77a7f562-24e1-4a3f-cd8d-0e853cf50dbf"
      },
      "outputs": [
        {
          "output_type": "stream",
          "name": "stdout",
          "text": [
            "apbqcr\n",
            "apbqrs\n",
            "xyz\n",
            "a@!cb#\n",
            "apbqcd\n"
          ]
        }
      ],
      "source": [
        "print(mergeAlternately(\"abc\",\"pqr\")) # deve retornar \"apbqcr\"\n",
        "print(mergeAlternately(\"ab\",\"pqrs\")) # deve retornar \"apbqrs\"\n",
        "print(mergeAlternately(\"\",\"xyz\")) # deve retornar \"xyz\"\n",
        "print(mergeAlternately(\"a!b\",\"@c#\")) # deve retornar \"a@!cb#\"\n",
        "print(mergeAlternately(\"abcd\",\"pq\")) # deve retornar \"apbqcd\""
      ]
    }
  ],
  "metadata": {
    "kernelspec": {
      "display_name": "Python 3",
      "language": "python",
      "name": "python3"
    },
    "language_info": {
      "codemirror_mode": {
        "name": "ipython",
        "version": 3
      },
      "file_extension": ".py",
      "mimetype": "text/x-python",
      "name": "python",
      "nbconvert_exporter": "python",
      "pygments_lexer": "ipython3",
      "version": "3.11.9"
    },
    "colab": {
      "provenance": []
    }
  },
  "nbformat": 4,
  "nbformat_minor": 0
}